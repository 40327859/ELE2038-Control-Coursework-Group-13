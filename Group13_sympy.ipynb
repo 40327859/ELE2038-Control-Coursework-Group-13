{
 "cells": [
  {
   "cell_type": "code",
   "execution_count": 24,
   "metadata": {},
   "outputs": [],
   "source": [
    "import sympy as sym\n",
    "from sympy import exp, Symbol\n",
    "from sympy import Symbol, solve, re"
   ]
  },
  {
   "cell_type": "code",
   "execution_count": 25,
   "metadata": {},
   "outputs": [
    {
     "data": {
      "text/latex": [
       "$\\displaystyle \\frac{5 \\left(- b x_{2} + \\frac{c x_{3}^{2}}{\\left(\\delta - x_{1}\\right)^{2}} + g m \\sin{\\left(\\phi \\right)} - k \\left(- d + x_{1}\\right)\\right)}{7 m}$"
      ],
      "text/plain": [
       "5*(-b*x2 + c*x3**2/(delta - x1)**2 + g*m*sin(phi) - k*(-d + x1))/(7*m)"
      ]
     },
     "execution_count": 25,
     "metadata": {},
     "output_type": "execute_result"
    }
   ],
   "source": [
    "m, k, phi, c, y, g, d, b, delta, = sym.symbols('m, k, phi, c, y, g, d, b, delta', positive = True)\n",
    "x1, x2, x3, V = sym.symbols('x1, x2, x3, V', real = True)\n",
    "y = delta - x1\n",
    "phi = (5/(7*m))*(-k*(x1-d)-(b*x2)+(m*g*sym.sin(phi))+c*(x3**2)/(((y**2))))\n",
    "phi"
   ]
  },
  {
   "cell_type": "code",
   "execution_count": 26,
   "metadata": {},
   "outputs": [
    {
     "data": {
      "text/latex": [
       "$\\displaystyle \\frac{5 \\cdot \\left(\\frac{2 c x_{3}^{2}}{\\left(\\delta - x_{1}\\right)^{3}} - k\\right)}{7 m}$"
      ],
      "text/plain": [
       "5*(2*c*x3**2/(delta - x1)**3 - k)/(7*m)"
      ]
     },
     "execution_count": 26,
     "metadata": {},
     "output_type": "execute_result"
    }
   ],
   "source": [
    "A = phi.diff(x1)\n",
    "A"
   ]
  },
  {
   "cell_type": "code",
   "execution_count": 27,
   "metadata": {},
   "outputs": [
    {
     "data": {
      "text/latex": [
       "$\\displaystyle - \\frac{5 b}{7 m}$"
      ],
      "text/plain": [
       "-5*b/(7*m)"
      ]
     },
     "execution_count": 27,
     "metadata": {},
     "output_type": "execute_result"
    }
   ],
   "source": [
    "B = phi.diff(x2)\n",
    "B"
   ]
  },
  {
   "cell_type": "code",
   "execution_count": 28,
   "metadata": {},
   "outputs": [
    {
     "data": {
      "text/latex": [
       "$\\displaystyle \\frac{10 c x_{3}}{7 m \\left(\\delta - x_{1}\\right)^{2}}$"
      ],
      "text/plain": [
       "10*c*x3/(7*m*(delta - x1)**2)"
      ]
     },
     "execution_count": 28,
     "metadata": {},
     "output_type": "execute_result"
    }
   ],
   "source": [
    "C = phi.diff(x3)\n",
    "C"
   ]
  },
  {
   "cell_type": "code",
   "execution_count": 29,
   "metadata": {},
   "outputs": [
    {
     "data": {
      "text/latex": [
       "$\\displaystyle \\frac{- R x_{3} + V}{L_{0} + L_{1} e^{- \\alpha \\left(\\delta - x_{1}\\right)}}$"
      ],
      "text/plain": [
       "(-R*x3 + V)/(L0 + L1*exp(-alpha*(delta - x1)))"
      ]
     },
     "execution_count": 29,
     "metadata": {},
     "output_type": "execute_result"
    }
   ],
   "source": [
    "psi, V, x3, R, L0, L1, alpha  = sym.symbols('psi, v, x3, R, L0, L1, alpha ', positive = True)\n",
    "x1, x2, x3, v = sym.symbols('x1, x2, x3, V', real = True)\n",
    "y = delta - x1\n",
    "L = L0 + L1 * exp(-alpha*y)\n",
    "psi = (v - x3*R) / L\n",
    "psi"
   ]
  },
  {
   "cell_type": "code",
   "execution_count": 30,
   "metadata": {},
   "outputs": [
    {
     "data": {
      "text/latex": [
       "$\\displaystyle - \\frac{L_{1} \\alpha \\left(- R x_{3} + V\\right) e^{- \\alpha \\left(\\delta - x_{1}\\right)}}{\\left(L_{0} + L_{1} e^{- \\alpha \\left(\\delta - x_{1}\\right)}\\right)^{2}}$"
      ],
      "text/plain": [
       "-L1*alpha*(-R*x3 + V)*exp(-alpha*(delta - x1))/(L0 + L1*exp(-alpha*(delta - x1)))**2"
      ]
     },
     "execution_count": 30,
     "metadata": {},
     "output_type": "execute_result"
    }
   ],
   "source": [
    "D = psi.diff(x1)\n",
    "D"
   ]
  },
  {
   "cell_type": "code",
   "execution_count": 31,
   "metadata": {},
   "outputs": [
    {
     "data": {
      "text/latex": [
       "$\\displaystyle - \\frac{R}{L_{0} + L_{1} e^{- \\alpha \\left(\\delta - x_{1}\\right)}}$"
      ],
      "text/plain": [
       "-R/(L0 + L1*exp(-alpha*(delta - x1)))"
      ]
     },
     "execution_count": 31,
     "metadata": {},
     "output_type": "execute_result"
    }
   ],
   "source": [
    "E = psi.diff(x3)\n",
    "E"
   ]
  },
  {
   "cell_type": "code",
   "execution_count": 32,
   "metadata": {},
   "outputs": [
    {
     "data": {
      "text/latex": [
       "$\\displaystyle 0$"
      ],
      "text/plain": [
       "0"
      ]
     },
     "execution_count": 32,
     "metadata": {},
     "output_type": "execute_result"
    }
   ],
   "source": [
    "F = psi.diff(V)\n",
    "F"
   ]
  },
  {
   "cell_type": "code",
   "execution_count": 33,
   "metadata": {},
   "outputs": [
    {
     "data": {
      "text/latex": [
       "$\\displaystyle \\frac{C F}{A E - A s + B E s - B s^{2} - E s^{2} + s^{3}}$"
      ],
      "text/plain": [
       "C*F/(A*E - A*s + B*E*s - B*s**2 - E*s**2 + s**3)"
      ]
     },
     "execution_count": 33,
     "metadata": {},
     "output_type": "execute_result"
    }
   ],
   "source": [
    "G, F, C, s, A, B, E = sym.symbols('G F C s A B E')\n",
    "G = (F*C) / expand(((s**2 - A - B*s)*(s - E)))\n",
    "G"
   ]
  },
  {
   "cell_type": "code",
   "execution_count": 34,
   "metadata": {},
   "outputs": [
    {
     "name": "stdout",
     "output_type": "stream",
     "text": [
      "4562.9988239068/(s**3 + 15174.9010197085*s**2 + 243531.996259953*s - 3169857.09321053)\n"
     ]
    }
   ],
   "source": [
    "m = 0.462\n",
    "g = 9.81\n",
    "d = 0.42\n",
    "delta = 0.65\n",
    "r = 0.123\n",
    "R = 2200\n",
    "L0 = 125*10**-3\n",
    "L1 = 24.1*10**-3\n",
    "alpha = 1.2\n",
    "c = 6.811\n",
    "k = 1885\n",
    "b = 10.4\n",
    "phi = 41\n",
    "x1 = 0.5\n",
    "x2 = 0\n",
    "x3 = sqrt((k*x1 - k*d - m*g*sin(phi))*(delta - x1)**2/c)\n",
    "V = x3*R\n",
    "A = 5*(2*c*x3**2/(delta - x1)**3 - k)/(7*m)\n",
    "B = -5*b/(7*m)\n",
    "C = 10*c*x3/(7*m*(delta - x1)**2)\n",
    "E = -R/(L0 + L1*exp(-alpha*(delta - x1)))\n",
    "F = 1/(L0 + L1*exp(-alpha*(delta - x1)))\n",
    "G = (F*C)/(s**3 - (B + E)*s**2 + (B*E-A)*s + A*E)\n",
    "print(N(G))"
   ]
  },
  {
   "cell_type": "code",
   "execution_count": 35,
   "metadata": {},
   "outputs": [
    {
     "name": "stdout",
     "output_type": "stream",
     "text": [
      "[-15158.8218607722 + 0.e-19*I, -24.5848073153069 + 0.e-19*I, 8.50564837900509 - 0.e-19*I]\n"
     ]
    }
   ],
   "source": [
    "def poly_solver(coefficients):\n",
    "    s = Symbol('s')\n",
    "    polynomial = sum([coefficients[i]*s**(len(coefficients)-i-1) for i in range(len(coefficients))])\n",
    "    roots = solve(polynomial)\n",
    "    real_roots = [root for root in roots if re(root).is_real]\n",
    "    return real_roots\n",
    "\n",
    "# Example usage:\n",
    "coefficients = [1, 15174.9010197085, 243531.996259953, -3169857.09321053] # s**3 + 15174.9010197085*s**2 + 243531.996259953*s - 3169857.09321053 = 0\n",
    "print(poly_solver(coefficients))\n"
   ]
  }
 ],
 "metadata": {
  "kernelspec": {
   "display_name": "base",
   "language": "python",
   "name": "python3"
  },
  "language_info": {
   "codemirror_mode": {
    "name": "ipython",
    "version": 3
   },
   "file_extension": ".py",
   "mimetype": "text/x-python",
   "name": "python",
   "nbconvert_exporter": "python",
   "pygments_lexer": "ipython3",
   "version": "3.9.13"
  },
  "orig_nbformat": 4
 },
 "nbformat": 4,
 "nbformat_minor": 2
}
